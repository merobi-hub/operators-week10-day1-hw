{
 "cells": [
  {
   "cell_type": "markdown",
   "metadata": {},
   "source": [
    "# Exercises"
   ]
  },
  {
   "cell_type": "markdown",
   "metadata": {},
   "source": [
    "### #1 - Calculate the BMI (body mass index) on the two lists below using NDArrays..."
   ]
  },
  {
   "cell_type": "code",
   "execution_count": 4,
   "metadata": {},
   "outputs": [
    {
     "name": "stdout",
     "output_type": "stream",
     "text": [
      "[69 70 71 72 73 74 75] [110 120 130 140 150 160 170]\n"
     ]
    },
    {
     "data": {
      "text/plain": [
       "array([16.86620458, 17.87755102, 18.82562984, 19.71450617, 20.54794521,\n",
       "       21.32943755, 22.06222222])"
      ]
     },
     "execution_count": 4,
     "metadata": {},
     "output_type": "execute_result"
    }
   ],
   "source": [
    "import numpy as np\n",
    "# formula = weight / (height**2) * 730\n",
    "height = [69, 70, 71, 72, 73, 74, 75]\n",
    "weight = [110, 120, 130, 140, 150, 160, 170]\n",
    "\n",
    "# OUTPUT: [16.86620458 17.87755102 18.82562984 19.71450617 20.54794521 21.32943755\n",
    "# 22.06222222]\n",
    "\n",
    "height = np.array(height)\n",
    "weight = np.array(weight)\n",
    "print(height, weight)\n",
    "\n",
    "weight / (height**2) * 730\n"
   ]
  },
  {
   "cell_type": "markdown",
   "metadata": {},
   "source": [
    "### #2 - Create a function that will take in two parameters and will create a random matrix based off of those parameters. Extra: Have additional parameters taken in that allow the user to choose the shape and data type of the matrix."
   ]
  },
  {
   "cell_type": "code",
   "execution_count": 34,
   "metadata": {},
   "outputs": [
    {
     "name": "stdout",
     "output_type": "stream",
     "text": [
      "provide lowest num for matrix1\n",
      "provide highest num for matrix10\n",
      "provide number of columns5\n",
      "provide number of rows5\n",
      "makeMatrix1 output:\n",
      "[[9.46416014 9.84769828 5.86112541 1.84792299 4.93246767]\n",
      " [9.99287157 2.73848042 5.98070156 6.27085324 1.95396679]\n",
      " [8.57917518 8.74112003 6.53702807 7.4192916  2.17623321]\n",
      " [3.27954272 5.74833654 6.52618607 6.54585079 4.95369741]\n",
      " [6.10476447 9.46110042 9.34090553 4.32762802 7.69290252]]\n",
      "makeMatrix2 output:\n",
      "[[8.49663032 7.32192694 3.95979846]\n",
      " [8.52212346 1.38814323 4.49536627]\n",
      " [3.06519613 5.56936787 8.34348863]]\n"
     ]
    }
   ],
   "source": [
    "\"\"\"\n",
    "Example Result\n",
    "array([[14.21633515,  7.98846653,  9.64140715],\n",
    "       [ 6.30982234,  9.96414331,  8.43153688],\n",
    "       [14.73102068, 11.76072894, 14.23356121]])\n",
    "\"\"\"\n",
    "# def makeMatrix(low,high,shape,data_type = float): -- Example\n",
    "#     pass\n",
    "\n",
    "# Version that prompts for user input but lacks data type customization:\n",
    "\n",
    "def makeMatrix1():\n",
    "\n",
    "    matrix_low = input('provide lowest num for matrix')\n",
    "    if matrix_low:\n",
    "        matrix_high = input('provide highest num for matrix')\n",
    "    if matrix_high:\n",
    "        matrix_cols = input('provide number of columns')\n",
    "    if matrix_cols:\n",
    "        matrix_rows = input('provide number of rows')\n",
    "    if matrix_rows:\n",
    "        # print(matrix_low, matrix_high, matrix_cols, matrix_rows)\n",
    "        print('makeMatrix1 output:')\n",
    "        print(np.random.uniform( int(matrix_low), int(matrix_high), (int(matrix_rows), int(matrix_cols)) ))\n",
    "makeMatrix1()\n",
    "\n",
    "# Version without user input prompts but with data type customization:\n",
    "\n",
    "def makeMatrix2(low,high,shape,data_type = float):\n",
    "    \n",
    "    return np.random.uniform( int(low), int(high), int(shape[0])**2 ).reshape(shape)    \n",
    "\n",
    "print('makeMatrix2 output:')\n",
    "print(makeMatrix2(1,10,(3,3),data_type = float))\n"
   ]
  },
  {
   "cell_type": "markdown",
   "metadata": {},
   "source": [
    "### #3 - Extra: Open and load the data in the two text files that have the Boston Red Sox hitting data for the past seasons. Compare the difference in the two years by putting the data into an NDArray and running a differencial operation on it. The column to look for will be SLG.\n",
    "\n",
    "Your output should display which year (either 2017 or 2018) was a better year based on SLG"
   ]
  },
  {
   "cell_type": "code",
   "execution_count": 37,
   "metadata": {},
   "outputs": [
    {
     "name": "stdout",
     "output_type": "stream",
     "text": [
      "[['Rk', 'Pos', 'Name', 'Age', 'G', 'PA', 'AB', 'R', 'H', '2B', '3B', 'HR', 'RBI', 'SB', 'CS', 'BB', 'SO', 'BA', 'OBP', 'SLG', 'OPS', 'OPS+', 'TB', 'GDP', 'HBP', 'SH', 'SF', 'IBB'], ['1', 'C', 'Christian Vazquez', '26', '99', '345', '324', '43', '94', '18', '2', '5', '32', '7', '2', '17', '64', '.290', '.330', '.404', '.735', '91', '131', '14', '3', '0', '1', '0'], ['2', '1B', 'Mitch Moreland', '31', '149', '576', '508', '73', '125', '34', '0', '22', '79', '0', '1', '57', '120', '.246', '.326', '.443', '.769', '99', '225', '14', '6', '0', '5', '6'], ['3', '2B', 'Dustin Pedroia', '33', '105', '463', '406', '46', '119', '19', '0', '7', '62', '4', '3', '49', '48', '.293', '.369', '.392', '.760', '100', '159', '11', '2', '2', '4', '4'], ['4', 'SS', 'Xander Bogaerts', '24', '148', '635', '571', '94', '156', '32', '6', '10', '62', '15', '1', '56', '116', '.273', '.343', '.403', '.746', '95', '230', '17', '6', '0', '2', '6']]\n",
      "[['Rk', 'Pos', 'Name', 'Age', 'G', 'PA', 'AB', 'R', 'H', '2B', '3B', 'HR', 'RBI', 'SB', 'CS', 'BB', 'SO', 'BA', 'OBP', 'SLG', 'OPS', 'OPS+', 'TB', 'GDP', 'HBP', 'SH', 'SF', 'IBB'], ['1', 'C', 'Sandy Leon', '29', '89', '288', '265', '30', '47', '12', '0', '5', '22', '1', '0', '15', '75', '.177', '.232', '.279', '.511', '37', '74', '6', '4', '3', '1', '0'], ['2', '1B', 'Mitch Moreland', '32', '124', '459', '404', '57', '99', '23', '4', '15', '68', '2', '0', '50', '102', '.245', '.325', '.433', '.758', '102', '175', '12', '0', '0', '5', '2'], ['3', '2B', 'Eduardo Nunez', '31', '127', '502', '480', '56', '127', '23', '3', '10', '44', '7', '2', '16', '69', '.265', '.289', '.388', '.677', '81', '186', '17', '2', '1', '3', '0'], ['4', 'SS', 'Xander Bogaerts', '25', '136', '580', '513', '72', '148', '45', '3', '23', '103', '8', '2', '55', '102', '.288', '.360', '.522', '.883', '135', '268', '14', '6', '0', '6', '4']]\n",
      "[0.404 0.443 0.392 0.403 0.482 0.424 0.402 0.459 0.429 0.354 0.387 0.333\n",
      " 0.539 0.243 0.262 0.354 0.342 0.339 0.328 0.306 0.222 0.2   1.   ]\n",
      "[0.279 0.433 0.388 0.522 0.433 0.465 0.403 0.64  0.629 0.411 0.283 0.328\n",
      " 0.395 0.507 0.311 0.415 0.389 0.261 0.091 0.167]\n"
     ]
    }
   ],
   "source": [
    "import csv\n",
    "import numpy as np\n",
    "\n",
    "#Test to make sure you have the correct data\n",
    "\n",
    "# Return data in csv format\n",
    "\n",
    "def open_csv(filename, d = ','):\n",
    "    #define empty list to store data\n",
    "    data = []\n",
    "    \n",
    "    with open(filename, encoding = 'utf-8') as mData: #with open more memory-efficient\n",
    "        # use csv to create a python list\n",
    "        info = csv.reader(mData, delimiter=d)\n",
    "        \n",
    "        #loop over info and append to data list\n",
    "        for row in info:\n",
    "            data.append(row)\n",
    "    return data\n",
    "csv_data_2017 = open_csv('./files/redsox_2017_hitting.txt')\n",
    "csv_data_2018 = open_csv('./files/redsox_2018_hitting.txt')\n",
    "\n",
    "print(csv_data_2017[0:5])\n",
    "print(csv_data_2018[0:5])\n",
    "\n"
   ]
  },
  {
   "cell_type": "code",
   "execution_count": 47,
   "metadata": {},
   "outputs": [
    {
     "name": "stdout",
     "output_type": "stream",
     "text": [
      "[0.404 0.443 0.392 0.403 0.482 0.424 0.402 0.459 0.429 0.354 0.387 0.333\n",
      " 0.539 0.243 0.262 0.354 0.342 0.339 0.328 0.306 0.222 0.2   1.   ]\n",
      "9.04699994623661\n",
      "[0.279 0.433 0.388 0.522 0.433 0.465 0.403 0.64  0.629 0.411 0.283 0.328\n",
      " 0.395 0.507 0.311 0.415 0.389 0.261 0.091 0.167]\n",
      "7.750000067055225\n",
      "Boston had more SLG in 2017 than 2018. Total SLG: 9.04699994623661\n",
      "SLG: [0.404 0.443 0.392 0.403 0.482 0.424 0.402 0.459 0.429 0.354 0.387 0.333\n",
      " 0.539 0.243 0.262 0.354 0.342 0.339 0.328 0.306 0.222 0.2   1.   ]\n"
     ]
    }
   ],
   "source": [
    "\"\"\"\n",
    "Example Result - Not the actual result\n",
    "Boston 18 had more SLG in 2018\n",
    "[0.404 0.443 0.392 0.403 0.482 0.424 0.402 0.459 0.429 0.354 0.387 0.333\n",
    " 0.539 0.243 0.262 0.354 0.342 0.339 0.328 0.306 0.222 0.2   1.   ]\n",
    "\"\"\"\n",
    "\n",
    "FIELDS = ['Rk', 'Pos', 'Name', 'Age', 'G', 'PA', 'AB', 'R', 'H', '2B', '3B', 'HR', 'RBI', 'SB', 'CS', \n",
    "          'BB', 'SO', 'BA', 'OBP', 'SLG', 'OPS', 'OPS+', 'TB', 'GDP', 'HBP', 'SH', 'SF', 'IBB']\n",
    "\n",
    "DATATYPES = [('rk', 'i'), ('pos', '|S25'), ('name', '|S25'), ('age', 'i'), ('g', 'i'), ('pa', 'i'), ('ab', 'i'),\n",
    "                ('r', 'i'), ('h', 'i'), ('2b', 'i'), ('3b', 'i'), ('hr', 'i'), ('rbi', 'i'), ('sb', 'i'), ('cs', 'i'),\n",
    "                ('bb', 'i'), ('so', 'i'), ('ba', 'f'), ('obp', 'f'), ('slg', 'f'), ('ops', 'f'), ('opsp', 'i'),\n",
    "                ('tb', 'i'), ('gdp', 'i'), ('hbp', 'i'), ('sh', 'i'), ('sf', 'i'), ('ibb', 'i')]\n",
    "\n",
    "#Use this function to actually open the data inside of a NDArray\n",
    "\n",
    "def load_data(filename, d=','):\n",
    "    data = np.genfromtxt(filename, delimiter = d, skip_header = 1, usecols = np.arange(0,24), invalid_raise = False, names = FIELDS, dtype=DATATYPES)\n",
    "    return data\n",
    "\n",
    "bs2017 = load_data('./files/redsox_2017_hitting.txt')\n",
    "# print(bs2017['SLG'])\n",
    "bs2017_SLG = bs2017['SLG']\n",
    "bs2017_SLG_sum = sum(bs2017['SLG'])\n",
    "# print(bs2017_SLG_sum)\n",
    "bs2018 = load_data('./files/redsox_2018_hitting.txt')\n",
    "# print(bs2018['SLG'])\n",
    "bs2018_SLG = bs2018['SLG']\n",
    "bs2018_SLG_sum = sum(bs2018['SLG'])\n",
    "# print(bs2018_SLG_sum)\n",
    "\n",
    "if bs2017_SLG_sum > bs2018_SLG_sum:\n",
    "    print(f'Boston had more SLG in 2017 than 2018. Total SLG: {bs2017_SLG_sum}\\nSLG: {bs2017_SLG}')\n",
    "else:\n",
    "    print(f'Boston had more SLG in 2018 than 2017. Total SLG: {bs2018_SLG_sum}\\nSLG: {bs2018_SLG}')\n",
    "\n"
   ]
  }
 ],
 "metadata": {
  "kernelspec": {
   "display_name": "Python 3",
   "language": "python",
   "name": "python3"
  },
  "language_info": {
   "codemirror_mode": {
    "name": "ipython",
    "version": 3
   },
   "file_extension": ".py",
   "mimetype": "text/x-python",
   "name": "python",
   "nbconvert_exporter": "python",
   "pygments_lexer": "ipython3",
   "version": "3.7.6"
  }
 },
 "nbformat": 4,
 "nbformat_minor": 2
}
